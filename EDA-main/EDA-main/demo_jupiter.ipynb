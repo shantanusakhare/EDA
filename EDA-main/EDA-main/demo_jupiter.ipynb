{
 "cells": [
  {
   "cell_type": "markdown",
   "id": "1edc420a",
   "metadata": {},
   "source": [
    "# Auto-generated EDA notebook.\n",
    "## Welcome to EDA Notebook created from Streamlit�s TEDA application.\n",
    "*Due to Streamlit�s file_uploader current limitations, you must manually insert the path of the CSV file.*"
   ]
  },
  {
   "cell_type": "code",
   "execution_count": null,
   "id": "79f28f2e",
   "metadata": {},
   "outputs": [],
   "source": [
    "# Import all necessary libraries:\n",
    "import pandas as pd\n",
    "import numpy as np\n",
    "import seaborn as sns\n",
    "from matplotlib import pyplot as plt"
   ]
  },
  {
   "cell_type": "code",
   "execution_count": null,
   "id": "230620f1",
   "metadata": {},
   "outputs": [],
   "source": [
    "# Load the dataframe:\n",
    "# Insert path to CSV:\n",
    "df = pd.read_csv(\"filename.csv\")\n",
    "target_column = \"Start onEpisode\" "
   ]
  },
  {
   "cell_type": "code",
   "execution_count": null,
   "id": "31920509",
   "metadata": {},
   "outputs": [],
   "source": [
    "# Raw Data and Info:\n",
    "print(df.info())\n",
    "df.head()"
   ]
  },
  {
   "cell_type": "code",
   "execution_count": null,
   "id": "45a7621e",
   "metadata": {},
   "outputs": [],
   "source": [
    "# Missing Data:\n",
    "total = df.isnull().sum().sort_values(ascending=False)\n",
    "percent = (df.isnull().sum() / df.isnull().count()).sort_values(ascending=False)\n",
    "missing_data = pd.concat([total, percent], axis=1, keys=['Total', 'Percent'])\n",
    "missing_data"
   ]
  },
  {
   "cell_type": "code",
   "execution_count": null,
   "id": "688076f3",
   "metadata": {},
   "outputs": [],
   "source": [
    "# Pair Plot:\n",
    "# select your variable/s to do the pair plot:\n",
    "pair_cols = df.columns[1:2]\n",
    "pair_cols.append(target_column)\n",
    "sns.set()\n",
    "sns.pairplot(df[pair_cols], size=2.0)"
   ]
  },
  {
   "cell_type": "code",
   "execution_count": null,
   "id": "b78aaa10",
   "metadata": {},
   "outputs": [],
   "source": [
    "# Pair Plot:\n",
    "# select the columns for the matrix::\n",
    "cm_cols = list(df.columns)\n",
    "plt.figure(figsize=(12, 8))\n",
    "ax = sns.heatmap(df[cm_cols].corr(), cmap=\"OrRd\", linecolor='white', linewidths=1)"
   ]
  }
 ],
 "metadata": {
  "kernelspec": {
   "display_name": "Python 3.10.7 64-bit",
   "language": "python",
   "name": "python3"
  },
  "language_info": {
   "name": "python",
   "version": "3.10.7"
  },
  "vscode": {
   "interpreter": {
    "hash": "26de051ba29f2982a8de78e945f0abaf191376122a1563185a90213a26c5da77"
   }
  }
 },
 "nbformat": 4,
 "nbformat_minor": 5
}
